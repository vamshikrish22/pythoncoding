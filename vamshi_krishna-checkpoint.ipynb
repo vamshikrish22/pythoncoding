{
 "cells": [
  {
   "cell_type": "code",
   "execution_count": 1,
   "id": "4ad615fa",
   "metadata": {},
   "outputs": [],
   "source": [
    "import pandas as pd"
   ]
  },
  {
   "cell_type": "code",
   "execution_count": 4,
   "id": "a27a3868",
   "metadata": {},
   "outputs": [],
   "source": [
    "df = pd.read_csv(r\"C:\\Users\\user\\Downloads\\cleaned_all_phones.csv\", parse_dates = [\"announcement_date\"], dayfirst = True)"
   ]
  },
  {
   "cell_type": "code",
   "execution_count": 5,
   "id": "a83dd9d3",
   "metadata": {},
   "outputs": [
    {
     "data": {
      "text/html": [
       "<div>\n",
       "<style scoped>\n",
       "    .dataframe tbody tr th:only-of-type {\n",
       "        vertical-align: middle;\n",
       "    }\n",
       "\n",
       "    .dataframe tbody tr th {\n",
       "        vertical-align: top;\n",
       "    }\n",
       "\n",
       "    .dataframe thead th {\n",
       "        text-align: right;\n",
       "    }\n",
       "</style>\n",
       "<table border=\"1\" class=\"dataframe\">\n",
       "  <thead>\n",
       "    <tr style=\"text-align: right;\">\n",
       "      <th></th>\n",
       "      <th>phone_name</th>\n",
       "      <th>brand</th>\n",
       "      <th>os</th>\n",
       "      <th>inches</th>\n",
       "      <th>resolution</th>\n",
       "      <th>battery</th>\n",
       "      <th>battery_type</th>\n",
       "      <th>ram(GB)</th>\n",
       "      <th>announcement_date</th>\n",
       "      <th>weight(g)</th>\n",
       "      <th>...</th>\n",
       "      <th>video_1080p</th>\n",
       "      <th>video_4K</th>\n",
       "      <th>video_8K</th>\n",
       "      <th>video_30fps</th>\n",
       "      <th>video_60fps</th>\n",
       "      <th>video_120fps</th>\n",
       "      <th>video_240fps</th>\n",
       "      <th>video_480fps</th>\n",
       "      <th>video_960fps</th>\n",
       "      <th>price(USD)</th>\n",
       "    </tr>\n",
       "  </thead>\n",
       "  <tbody>\n",
       "    <tr>\n",
       "      <th>0</th>\n",
       "      <td>Y6II Compact</td>\n",
       "      <td>Huawei</td>\n",
       "      <td>Android 5.1</td>\n",
       "      <td>5.0</td>\n",
       "      <td>720x1280</td>\n",
       "      <td>2200</td>\n",
       "      <td>Li-Po</td>\n",
       "      <td>2</td>\n",
       "      <td>2016-09-01</td>\n",
       "      <td>140.0</td>\n",
       "      <td>...</td>\n",
       "      <td>False</td>\n",
       "      <td>False</td>\n",
       "      <td>False</td>\n",
       "      <td>True</td>\n",
       "      <td>False</td>\n",
       "      <td>False</td>\n",
       "      <td>False</td>\n",
       "      <td>False</td>\n",
       "      <td>False</td>\n",
       "      <td>120.0</td>\n",
       "    </tr>\n",
       "    <tr>\n",
       "      <th>1</th>\n",
       "      <td>K20 plus</td>\n",
       "      <td>LG</td>\n",
       "      <td>Android 7.0</td>\n",
       "      <td>5.3</td>\n",
       "      <td>720x1280</td>\n",
       "      <td>2700</td>\n",
       "      <td>Li-Ion</td>\n",
       "      <td>2</td>\n",
       "      <td>2016-12-01</td>\n",
       "      <td>140.0</td>\n",
       "      <td>...</td>\n",
       "      <td>True</td>\n",
       "      <td>False</td>\n",
       "      <td>False</td>\n",
       "      <td>True</td>\n",
       "      <td>False</td>\n",
       "      <td>False</td>\n",
       "      <td>False</td>\n",
       "      <td>False</td>\n",
       "      <td>False</td>\n",
       "      <td>100.0</td>\n",
       "    </tr>\n",
       "    <tr>\n",
       "      <th>2</th>\n",
       "      <td>P8 Lite (2017)</td>\n",
       "      <td>Huawei</td>\n",
       "      <td>Android 7.0</td>\n",
       "      <td>5.2</td>\n",
       "      <td>1080x1920</td>\n",
       "      <td>3000</td>\n",
       "      <td>Li-Ion</td>\n",
       "      <td>4</td>\n",
       "      <td>2017-01-01</td>\n",
       "      <td>147.0</td>\n",
       "      <td>...</td>\n",
       "      <td>True</td>\n",
       "      <td>False</td>\n",
       "      <td>False</td>\n",
       "      <td>True</td>\n",
       "      <td>False</td>\n",
       "      <td>False</td>\n",
       "      <td>False</td>\n",
       "      <td>False</td>\n",
       "      <td>False</td>\n",
       "      <td>420.0</td>\n",
       "    </tr>\n",
       "    <tr>\n",
       "      <th>3</th>\n",
       "      <td>Redmi Note 4</td>\n",
       "      <td>Xiaomi</td>\n",
       "      <td>Android 6.0</td>\n",
       "      <td>5.5</td>\n",
       "      <td>1080x1920</td>\n",
       "      <td>4100</td>\n",
       "      <td>Li-Po</td>\n",
       "      <td>4</td>\n",
       "      <td>2017-01-01</td>\n",
       "      <td>165.0</td>\n",
       "      <td>...</td>\n",
       "      <td>True</td>\n",
       "      <td>False</td>\n",
       "      <td>False</td>\n",
       "      <td>True</td>\n",
       "      <td>False</td>\n",
       "      <td>True</td>\n",
       "      <td>False</td>\n",
       "      <td>False</td>\n",
       "      <td>False</td>\n",
       "      <td>150.0</td>\n",
       "    </tr>\n",
       "    <tr>\n",
       "      <th>4</th>\n",
       "      <td>P10</td>\n",
       "      <td>Huawei</td>\n",
       "      <td>Android 7.0</td>\n",
       "      <td>5.1</td>\n",
       "      <td>1080x1920</td>\n",
       "      <td>3200</td>\n",
       "      <td>Li-Ion</td>\n",
       "      <td>4</td>\n",
       "      <td>2017-02-01</td>\n",
       "      <td>145.0</td>\n",
       "      <td>...</td>\n",
       "      <td>True</td>\n",
       "      <td>True</td>\n",
       "      <td>False</td>\n",
       "      <td>True</td>\n",
       "      <td>True</td>\n",
       "      <td>False</td>\n",
       "      <td>False</td>\n",
       "      <td>False</td>\n",
       "      <td>False</td>\n",
       "      <td>420.0</td>\n",
       "    </tr>\n",
       "  </tbody>\n",
       "</table>\n",
       "<p>5 rows × 22 columns</p>\n",
       "</div>"
      ],
      "text/plain": [
       "       phone_name   brand           os  inches resolution  battery  \\\n",
       "0    Y6II Compact  Huawei  Android 5.1     5.0   720x1280     2200   \n",
       "1        K20 plus      LG  Android 7.0     5.3   720x1280     2700   \n",
       "2  P8 Lite (2017)  Huawei  Android 7.0     5.2  1080x1920     3000   \n",
       "3    Redmi Note 4  Xiaomi  Android 6.0     5.5  1080x1920     4100   \n",
       "4             P10  Huawei  Android 7.0     5.1  1080x1920     3200   \n",
       "\n",
       "  battery_type  ram(GB) announcement_date  weight(g)  ...  video_1080p  \\\n",
       "0        Li-Po        2        2016-09-01      140.0  ...        False   \n",
       "1       Li-Ion        2        2016-12-01      140.0  ...         True   \n",
       "2       Li-Ion        4        2017-01-01      147.0  ...         True   \n",
       "3        Li-Po        4        2017-01-01      165.0  ...         True   \n",
       "4       Li-Ion        4        2017-02-01      145.0  ...         True   \n",
       "\n",
       "   video_4K  video_8K  video_30fps  video_60fps  video_120fps  video_240fps  \\\n",
       "0     False     False         True        False         False         False   \n",
       "1     False     False         True        False         False         False   \n",
       "2     False     False         True        False         False         False   \n",
       "3     False     False         True        False          True         False   \n",
       "4      True     False         True         True         False         False   \n",
       "\n",
       "   video_480fps  video_960fps  price(USD)  \n",
       "0         False         False       120.0  \n",
       "1         False         False       100.0  \n",
       "2         False         False       420.0  \n",
       "3         False         False       150.0  \n",
       "4         False         False       420.0  \n",
       "\n",
       "[5 rows x 22 columns]"
      ]
     },
     "execution_count": 5,
     "metadata": {},
     "output_type": "execute_result"
    }
   ],
   "source": [
    "df.head()"
   ]
  },
  {
   "cell_type": "code",
   "execution_count": 6,
   "id": "dc139074",
   "metadata": {},
   "outputs": [
    {
     "name": "stdout",
     "output_type": "stream",
     "text": [
      "<class 'pandas.core.frame.DataFrame'>\n",
      "RangeIndex: 1512 entries, 0 to 1511\n",
      "Data columns (total 22 columns):\n",
      " #   Column             Non-Null Count  Dtype         \n",
      "---  ------             --------------  -----         \n",
      " 0   phone_name         1512 non-null   object        \n",
      " 1   brand              1512 non-null   object        \n",
      " 2   os                 1512 non-null   object        \n",
      " 3   inches             1512 non-null   float64       \n",
      " 4   resolution         1512 non-null   object        \n",
      " 5   battery            1512 non-null   int64         \n",
      " 6   battery_type       1512 non-null   object        \n",
      " 7   ram(GB)            1512 non-null   int64         \n",
      " 8   announcement_date  1512 non-null   datetime64[ns]\n",
      " 9   weight(g)          1512 non-null   float64       \n",
      " 10  storage(GB)        1512 non-null   int64         \n",
      " 11  video_720p         1512 non-null   bool          \n",
      " 12  video_1080p        1512 non-null   bool          \n",
      " 13  video_4K           1512 non-null   bool          \n",
      " 14  video_8K           1512 non-null   bool          \n",
      " 15  video_30fps        1512 non-null   bool          \n",
      " 16  video_60fps        1512 non-null   bool          \n",
      " 17  video_120fps       1512 non-null   bool          \n",
      " 18  video_240fps       1512 non-null   bool          \n",
      " 19  video_480fps       1512 non-null   bool          \n",
      " 20  video_960fps       1512 non-null   bool          \n",
      " 21  price(USD)         1512 non-null   float64       \n",
      "dtypes: bool(10), datetime64[ns](1), float64(3), int64(3), object(5)\n",
      "memory usage: 156.6+ KB\n"
     ]
    }
   ],
   "source": [
    "df.info()"
   ]
  },
  {
   "cell_type": "code",
   "execution_count": 7,
   "id": "d9adc9b3",
   "metadata": {},
   "outputs": [
    {
     "data": {
      "text/html": [
       "<div>\n",
       "<style scoped>\n",
       "    .dataframe tbody tr th:only-of-type {\n",
       "        vertical-align: middle;\n",
       "    }\n",
       "\n",
       "    .dataframe tbody tr th {\n",
       "        vertical-align: top;\n",
       "    }\n",
       "\n",
       "    .dataframe thead th {\n",
       "        text-align: right;\n",
       "    }\n",
       "</style>\n",
       "<table border=\"1\" class=\"dataframe\">\n",
       "  <thead>\n",
       "    <tr style=\"text-align: right;\">\n",
       "      <th></th>\n",
       "      <th>inches</th>\n",
       "      <th>battery</th>\n",
       "      <th>ram(GB)</th>\n",
       "      <th>weight(g)</th>\n",
       "      <th>storage(GB)</th>\n",
       "      <th>price(USD)</th>\n",
       "    </tr>\n",
       "  </thead>\n",
       "  <tbody>\n",
       "    <tr>\n",
       "      <th>count</th>\n",
       "      <td>1512.000000</td>\n",
       "      <td>1512.000000</td>\n",
       "      <td>1512.000000</td>\n",
       "      <td>1512.000000</td>\n",
       "      <td>1512.000000</td>\n",
       "      <td>1512.000000</td>\n",
       "    </tr>\n",
       "    <tr>\n",
       "      <th>mean</th>\n",
       "      <td>6.422460</td>\n",
       "      <td>4389.798942</td>\n",
       "      <td>6.683862</td>\n",
       "      <td>187.636243</td>\n",
       "      <td>109.164683</td>\n",
       "      <td>337.847036</td>\n",
       "    </tr>\n",
       "    <tr>\n",
       "      <th>std</th>\n",
       "      <td>0.477043</td>\n",
       "      <td>784.607022</td>\n",
       "      <td>2.701433</td>\n",
       "      <td>26.200115</td>\n",
       "      <td>74.436484</td>\n",
       "      <td>266.740821</td>\n",
       "    </tr>\n",
       "    <tr>\n",
       "      <th>min</th>\n",
       "      <td>3.800000</td>\n",
       "      <td>1821.000000</td>\n",
       "      <td>1.000000</td>\n",
       "      <td>130.000000</td>\n",
       "      <td>1.000000</td>\n",
       "      <td>40.000000</td>\n",
       "    </tr>\n",
       "    <tr>\n",
       "      <th>25%</th>\n",
       "      <td>6.300000</td>\n",
       "      <td>4000.000000</td>\n",
       "      <td>4.000000</td>\n",
       "      <td>175.000000</td>\n",
       "      <td>64.000000</td>\n",
       "      <td>179.997500</td>\n",
       "    </tr>\n",
       "    <tr>\n",
       "      <th>50%</th>\n",
       "      <td>6.500000</td>\n",
       "      <td>4500.000000</td>\n",
       "      <td>8.000000</td>\n",
       "      <td>187.000000</td>\n",
       "      <td>128.000000</td>\n",
       "      <td>260.000000</td>\n",
       "    </tr>\n",
       "    <tr>\n",
       "      <th>75%</th>\n",
       "      <td>6.670000</td>\n",
       "      <td>5000.000000</td>\n",
       "      <td>8.000000</td>\n",
       "      <td>197.250000</td>\n",
       "      <td>128.000000</td>\n",
       "      <td>400.000000</td>\n",
       "    </tr>\n",
       "    <tr>\n",
       "      <th>max</th>\n",
       "      <td>10.400000</td>\n",
       "      <td>7250.000000</td>\n",
       "      <td>24.000000</td>\n",
       "      <td>500.000000</td>\n",
       "      <td>512.000000</td>\n",
       "      <td>2300.000000</td>\n",
       "    </tr>\n",
       "  </tbody>\n",
       "</table>\n",
       "</div>"
      ],
      "text/plain": [
       "            inches      battery      ram(GB)    weight(g)  storage(GB)  \\\n",
       "count  1512.000000  1512.000000  1512.000000  1512.000000  1512.000000   \n",
       "mean      6.422460  4389.798942     6.683862   187.636243   109.164683   \n",
       "std       0.477043   784.607022     2.701433    26.200115    74.436484   \n",
       "min       3.800000  1821.000000     1.000000   130.000000     1.000000   \n",
       "25%       6.300000  4000.000000     4.000000   175.000000    64.000000   \n",
       "50%       6.500000  4500.000000     8.000000   187.000000   128.000000   \n",
       "75%       6.670000  5000.000000     8.000000   197.250000   128.000000   \n",
       "max      10.400000  7250.000000    24.000000   500.000000   512.000000   \n",
       "\n",
       "        price(USD)  \n",
       "count  1512.000000  \n",
       "mean    337.847036  \n",
       "std     266.740821  \n",
       "min      40.000000  \n",
       "25%     179.997500  \n",
       "50%     260.000000  \n",
       "75%     400.000000  \n",
       "max    2300.000000  "
      ]
     },
     "execution_count": 7,
     "metadata": {},
     "output_type": "execute_result"
    }
   ],
   "source": [
    "df.describe()"
   ]
  },
  {
   "cell_type": "markdown",
   "id": "10a329e5",
   "metadata": {},
   "source": [
    "#### 1st ans"
   ]
  },
  {
   "cell_type": "code",
   "execution_count": 9,
   "id": "102fcc89",
   "metadata": {},
   "outputs": [
    {
     "data": {
      "text/plain": [
       "13"
      ]
     },
     "execution_count": 9,
     "metadata": {},
     "output_type": "execute_result"
    }
   ],
   "source": [
    "df[\"brand\"].nunique()"
   ]
  },
  {
   "cell_type": "markdown",
   "id": "980ca356",
   "metadata": {},
   "source": [
    "#### 2nd ans"
   ]
  },
  {
   "cell_type": "code",
   "execution_count": 22,
   "id": "13d2467d",
   "metadata": {},
   "outputs": [
    {
     "data": {
      "text/plain": [
       "6.6838624338624335"
      ]
     },
     "execution_count": 22,
     "metadata": {},
     "output_type": "execute_result"
    }
   ],
   "source": [
    "df[\"ram(GB)\"].mean()"
   ]
  },
  {
   "cell_type": "markdown",
   "id": "3bedeb0e",
   "metadata": {},
   "source": [
    "#### 3rd ans"
   ]
  },
  {
   "cell_type": "code",
   "execution_count": 28,
   "id": "6779c795",
   "metadata": {},
   "outputs": [
    {
     "data": {
      "text/plain": [
       "phone_name                            V6\n",
       "brand                              Honor\n",
       "os                            Android 10\n",
       "inches                              10.4\n",
       "resolution                     1200x2000\n",
       "battery                             7250\n",
       "battery_type                       Li-Po\n",
       "ram(GB)                                8\n",
       "announcement_date    2020-05-19 00:00:00\n",
       "weight(g)                          480.0\n",
       "storage(GB)                           64\n",
       "video_720p                         False\n",
       "video_1080p                         True\n",
       "video_4K                           False\n",
       "video_8K                           False\n",
       "video_30fps                         True\n",
       "video_60fps                        False\n",
       "video_120fps                       False\n",
       "video_240fps                       False\n",
       "video_480fps                       False\n",
       "video_960fps                       False\n",
       "price(USD)                         280.0\n",
       "Name: 573, dtype: object"
      ]
     },
     "execution_count": 28,
     "metadata": {},
     "output_type": "execute_result"
    }
   ],
   "source": [
    "df[\"battery\"].idxmax()\n",
    "df.loc[573]"
   ]
  },
  {
   "cell_type": "markdown",
   "id": "c7eae69f",
   "metadata": {},
   "source": [
    "#### 4th ans"
   ]
  },
  {
   "cell_type": "code",
   "execution_count": 31,
   "id": "c103476b",
   "metadata": {},
   "outputs": [
    {
     "data": {
      "text/plain": [
       "phone_name                      iPhone 8\n",
       "brand                              Apple\n",
       "os                                iOS 11\n",
       "inches                               4.7\n",
       "resolution                      750x1334\n",
       "battery                             1821\n",
       "battery_type                      Li-Ion\n",
       "ram(GB)                                2\n",
       "announcement_date    2017-09-12 00:00:00\n",
       "weight(g)                          148.0\n",
       "storage(GB)                           64\n",
       "video_720p                          True\n",
       "video_1080p                         True\n",
       "video_4K                            True\n",
       "video_8K                           False\n",
       "video_30fps                         True\n",
       "video_60fps                         True\n",
       "video_120fps                        True\n",
       "video_240fps                        True\n",
       "video_480fps                       False\n",
       "video_960fps                       False\n",
       "price(USD)                         210.0\n",
       "Name: 62, dtype: object"
      ]
     },
     "execution_count": 31,
     "metadata": {},
     "output_type": "execute_result"
    }
   ],
   "source": [
    "df[\"battery\"].idxmin()\n",
    "df.loc[62]"
   ]
  },
  {
   "cell_type": "markdown",
   "id": "0a4d7926",
   "metadata": {},
   "source": [
    "#### 5th ans"
   ]
  },
  {
   "cell_type": "code",
   "execution_count": 145,
   "id": "c8c89677",
   "metadata": {},
   "outputs": [
    {
     "data": {
      "text/plain": [
       "phone_name                      nova Y91\n",
       "brand                             Huawei\n",
       "os                               EMUI 13\n",
       "inches                              6.95\n",
       "resolution                     1080x2376\n",
       "battery                             7000\n",
       "battery_type                       Li-Po\n",
       "ram(GB)                                8\n",
       "announcement_date    2023-05-23 00:00:00\n",
       "weight(g)                          214.0\n",
       "storage(GB)                          128\n",
       "video_720p                         False\n",
       "video_1080p                         True\n",
       "video_4K                           False\n",
       "video_8K                           False\n",
       "video_30fps                         True\n",
       "video_60fps                        False\n",
       "video_120fps                       False\n",
       "video_240fps                       False\n",
       "video_480fps                       False\n",
       "video_960fps                       False\n",
       "price(USD)                         280.0\n",
       "Name: 1448, dtype: object"
      ]
     },
     "execution_count": 145,
     "metadata": {},
     "output_type": "execute_result"
    }
   ],
   "source": [
    "grouped_df = df.groupby(\"brand\")\n",
    "max_battery = a.get_group(\"Huawei\")\n",
    "max_battery['battery'].idxmax()\n",
    "df.loc[1448]"
   ]
  },
  {
   "cell_type": "markdown",
   "id": "085a3a80",
   "metadata": {},
   "source": [
    "#### 6th ans"
   ]
  },
  {
   "cell_type": "code",
   "execution_count": 152,
   "id": "dfca3897",
   "metadata": {},
   "outputs": [
    {
     "data": {
      "text/plain": [
       "phone_name                  Y6II Compact\n",
       "brand                             Huawei\n",
       "os                           Android 5.1\n",
       "inches                               5.0\n",
       "resolution                      720x1280\n",
       "battery                             2200\n",
       "battery_type                       Li-Po\n",
       "ram(GB)                                2\n",
       "announcement_date    2016-09-01 00:00:00\n",
       "weight(g)                          140.0\n",
       "storage(GB)                           16\n",
       "video_720p                          True\n",
       "video_1080p                        False\n",
       "video_4K                           False\n",
       "video_8K                           False\n",
       "video_30fps                         True\n",
       "video_60fps                        False\n",
       "video_120fps                       False\n",
       "video_240fps                       False\n",
       "video_480fps                       False\n",
       "video_960fps                       False\n",
       "price(USD)                         120.0\n",
       "Name: 0, dtype: object"
      ]
     },
     "execution_count": 152,
     "metadata": {},
     "output_type": "execute_result"
    }
   ],
   "source": [
    "grouped_df = df.groupby(\"brand\")\n",
    "min_battery = a.get_group(\"Huawei\")\n",
    "min_battery[\"battery\"].idxmin()\n",
    "df.loc[0]"
   ]
  },
  {
   "cell_type": "markdown",
   "id": "74a14672",
   "metadata": {},
   "source": [
    "#### 7th ans"
   ]
  },
  {
   "cell_type": "code",
   "execution_count": 49,
   "id": "654a58e7",
   "metadata": {},
   "outputs": [
    {
     "data": {
      "text/plain": [
       "phone_name                  Y6II Compact\n",
       "brand                             Huawei\n",
       "os                           Android 5.1\n",
       "inches                               5.0\n",
       "resolution                      720x1280\n",
       "battery                             2200\n",
       "battery_type                       Li-Po\n",
       "ram(GB)                                2\n",
       "announcement_date    2016-09-01 00:00:00\n",
       "weight(g)                          140.0\n",
       "storage(GB)                           16\n",
       "video_720p                          True\n",
       "video_1080p                        False\n",
       "video_4K                           False\n",
       "video_8K                           False\n",
       "video_30fps                         True\n",
       "video_60fps                        False\n",
       "video_120fps                       False\n",
       "video_240fps                       False\n",
       "video_480fps                       False\n",
       "video_960fps                       False\n",
       "price(USD)                         120.0\n",
       "Name: 0, dtype: object"
      ]
     },
     "execution_count": 49,
     "metadata": {},
     "output_type": "execute_result"
    }
   ],
   "source": [
    "df[\"announcement_date\"].idxmin()\n",
    "df.loc[0]"
   ]
  },
  {
   "cell_type": "markdown",
   "id": "5f8446f6",
   "metadata": {},
   "source": [
    "#### 8th ans"
   ]
  },
  {
   "cell_type": "code",
   "execution_count": 106,
   "id": "17363ad4",
   "metadata": {},
   "outputs": [
    {
     "data": {
      "text/plain": [
       "33"
      ]
     },
     "execution_count": 106,
     "metadata": {},
     "output_type": "execute_result"
    }
   ],
   "source": [
    "android =  df.loc[(df[\"os\"] == \"Android 7.0\")]\n",
    "len(android)"
   ]
  },
  {
   "cell_type": "markdown",
   "id": "ee00a917",
   "metadata": {},
   "source": [
    "#### 9th ans"
   ]
  },
  {
   "cell_type": "code",
   "execution_count": 60,
   "id": "f8dec12e",
   "metadata": {},
   "outputs": [
    {
     "data": {
      "text/plain": [
       "Xiaomi     264\n",
       "Oppo       213\n",
       "Samsung    206\n",
       "Vivo       168\n",
       "Realme     157\n",
       "Huawei     137\n",
       "Honor      124\n",
       "LG          75\n",
       "OnePlus     47\n",
       "Lenovo      43\n",
       "Sony        37\n",
       "Apple       22\n",
       "Google      19\n",
       "Name: brand, dtype: int64"
      ]
     },
     "execution_count": 60,
     "metadata": {},
     "output_type": "execute_result"
    }
   ],
   "source": [
    "df[\"brand\"].value_counts()"
   ]
  },
  {
   "cell_type": "markdown",
   "id": "ea4281f1",
   "metadata": {},
   "source": [
    "#### 10th ans"
   ]
  },
  {
   "cell_type": "code",
   "execution_count": 69,
   "id": "cd68102f",
   "metadata": {},
   "outputs": [
    {
     "data": {
      "text/plain": [
       "phone_name                        P40 4G\n",
       "brand                             Huawei\n",
       "os                            Android 10\n",
       "inches                               6.1\n",
       "resolution                     1080x2340\n",
       "battery                             3800\n",
       "battery_type                       Li-Po\n",
       "ram(GB)                                8\n",
       "announcement_date    2021-02-26 00:00:00\n",
       "weight(g)                          175.0\n",
       "storage(GB)                          128\n",
       "video_720p                          True\n",
       "video_1080p                         True\n",
       "video_4K                            True\n",
       "video_8K                           False\n",
       "video_30fps                        False\n",
       "video_60fps                         True\n",
       "video_120fps                       False\n",
       "video_240fps                       False\n",
       "video_480fps                       False\n",
       "video_960fps                        True\n",
       "price(USD)                        2300.0\n",
       "Name: 777, dtype: object"
      ]
     },
     "execution_count": 69,
     "metadata": {},
     "output_type": "execute_result"
    }
   ],
   "source": [
    "df[\"price(USD)\"].idxmax()\n",
    "df.loc[777]"
   ]
  },
  {
   "cell_type": "markdown",
   "id": "0b2923c2",
   "metadata": {},
   "source": [
    "#### 11th ans"
   ]
  },
  {
   "cell_type": "code",
   "execution_count": 72,
   "id": "53d965c5",
   "metadata": {},
   "outputs": [
    {
     "data": {
      "text/plain": [
       "phone_name                           C2s\n",
       "brand                             Realme\n",
       "os                           Android 9.0\n",
       "inches                               6.1\n",
       "resolution                      720x1560\n",
       "battery                             4000\n",
       "battery_type                       Li-Po\n",
       "ram(GB)                                3\n",
       "announcement_date    2020-01-01 00:00:00\n",
       "weight(g)                          166.0\n",
       "storage(GB)                           32\n",
       "video_720p                         False\n",
       "video_1080p                         True\n",
       "video_4K                           False\n",
       "video_8K                           False\n",
       "video_30fps                         True\n",
       "video_60fps                        False\n",
       "video_120fps                       False\n",
       "video_240fps                       False\n",
       "video_480fps                       False\n",
       "video_960fps                       False\n",
       "price(USD)                          40.0\n",
       "Name: 452, dtype: object"
      ]
     },
     "execution_count": 72,
     "metadata": {},
     "output_type": "execute_result"
    }
   ],
   "source": [
    "df[\"price(USD)\"].idxmin()\n",
    "df.loc[452]"
   ]
  },
  {
   "cell_type": "markdown",
   "id": "7a22c1f0",
   "metadata": {},
   "source": [
    "#### 12th ans"
   ]
  },
  {
   "cell_type": "markdown",
   "id": "eb646478",
   "metadata": {},
   "source": [
    "###### i)"
   ]
  },
  {
   "cell_type": "code",
   "execution_count": 79,
   "id": "5bf95d6c",
   "metadata": {},
   "outputs": [
    {
     "data": {
      "text/plain": [
       "True     801\n",
       "False    711\n",
       "Name: video_4K, dtype: int64"
      ]
     },
     "execution_count": 79,
     "metadata": {},
     "output_type": "execute_result"
    }
   ],
   "source": [
    "df[\"video_4K\"].value_counts()"
   ]
  },
  {
   "cell_type": "markdown",
   "id": "f8a8086c",
   "metadata": {},
   "source": [
    "###### ii)"
   ]
  },
  {
   "cell_type": "code",
   "execution_count": 80,
   "id": "db293a94",
   "metadata": {},
   "outputs": [
    {
     "data": {
      "text/plain": [
       "False    1426\n",
       "True       86\n",
       "Name: video_8K, dtype: int64"
      ]
     },
     "execution_count": 80,
     "metadata": {},
     "output_type": "execute_result"
    }
   ],
   "source": [
    "df[\"video_8K\"].value_counts()"
   ]
  },
  {
   "cell_type": "markdown",
   "id": "0b2065fc",
   "metadata": {},
   "source": [
    "###### iii)"
   ]
  },
  {
   "cell_type": "code",
   "execution_count": 82,
   "id": "1c4f4d47",
   "metadata": {},
   "outputs": [
    {
     "data": {
      "text/plain": [
       "True     1503\n",
       "False       9\n",
       "Name: video_1080p, dtype: int64"
      ]
     },
     "execution_count": 82,
     "metadata": {},
     "output_type": "execute_result"
    }
   ],
   "source": [
    "df[\"video_1080p\"].value_counts()"
   ]
  }
 ],
 "metadata": {
  "kernelspec": {
   "display_name": "Python 3 (ipykernel)",
   "language": "python",
   "name": "python3"
  },
  "language_info": {
   "codemirror_mode": {
    "name": "ipython",
    "version": 3
   },
   "file_extension": ".py",
   "mimetype": "text/x-python",
   "name": "python",
   "nbconvert_exporter": "python",
   "pygments_lexer": "ipython3",
   "version": "3.10.9"
  }
 },
 "nbformat": 4,
 "nbformat_minor": 5
}
